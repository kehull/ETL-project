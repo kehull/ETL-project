{
 "cells": [
  {
   "cell_type": "markdown",
   "metadata": {},
   "source": [
    "# Combined ETL Python Code"
   ]
  },
  {
   "cell_type": "markdown",
   "metadata": {},
   "source": [
    "**Insert Dependecies**"
   ]
  },
  {
   "cell_type": "code",
   "execution_count": 1,
   "metadata": {},
   "outputs": [],
   "source": [
    "import numpy as np\n",
    "import pandas as pd"
   ]
  },
  {
   "cell_type": "markdown",
   "metadata": {},
   "source": [
    "**Import Urbanization Index Data**"
   ]
  },
  {
   "cell_type": "code",
   "execution_count": 2,
   "metadata": {},
   "outputs": [],
   "source": [
    "urban = \"Resources/urban.csv\"\n",
    "urban_df = pd.read_csv(urban)\n",
    "urban_df = pd.DataFrame(urban_df)"
   ]
  },
  {
   "cell_type": "code",
   "execution_count": 3,
   "metadata": {},
   "outputs": [],
   "source": [
    "state_new  = {'Alabama': 'AL','Alaska': 'AK','American Samoa': 'AS','Arizona': 'AZ','Arkansas': 'AR',\n",
    "              'California': 'CA','Colorado': 'CO','Connecticut': 'CT','Delaware': 'DE','District of Columbia': 'DC',\n",
    "              'Florida': 'FL','Georgia': 'GA','Guam': 'GU','Hawaii': 'HI','Idaho': 'ID','Illinois': 'IL',\n",
    "              'Indiana': 'IN','Iowa': 'IA','Kansas': 'KS','Kentucky': 'KY','Louisiana': 'LA','Maine': 'ME',\n",
    "              'Maryland': 'MD','Massachusetts': 'MA','Michigan': 'MI','Minnesota': 'MN','Mississippi': 'MS',\n",
    "              'Missouri': 'MO','Montana': 'MT','Nebraska': 'NE','Nevada': 'NV','New Hampshire': 'NH',\n",
    "              'New Jersey': 'NJ','New Mexico': 'NM','New York': 'NY','North Carolina': 'NC','North Dakota': 'ND',\n",
    "              'Northern Mariana Islands':'MP','Ohio': 'OH','Oklahoma': 'OK','Oregon': 'OR','Pennsylvania': 'PA',\n",
    "              'Puerto Rico': 'PR','Rhode Island': 'RI','South Carolina': 'SC','South Dakota': 'SD','Tennessee': 'TN',\n",
    "              'Texas': 'TX','Utah': 'UT','Vermont': 'VT','Virgin Islands': 'VI','Virginia': 'VA',\n",
    "              'Washington': 'WA','West Virginia': 'WV','Wisconsin': 'WI','Wyoming': 'WY'\n",
    "}\n",
    "\n",
    "urban_df['abbrev'] = urban_df.state.replace(state_new)"
   ]
  },
  {
   "cell_type": "code",
   "execution_count": 4,
   "metadata": {},
   "outputs": [],
   "source": [
    "urban = urban_df[['abbrev', 'urbanindex']].copy()\n",
    "urban = urban.rename(columns={'abbrev':'State','urbanindex':'Urban_Index'})"
   ]
  },
  {
   "cell_type": "code",
   "execution_count": 5,
   "metadata": {},
   "outputs": [],
   "source": [
    "clean_urban = urban.drop(index = [2,37,50,12,42])"
   ]
  },
  {
   "cell_type": "code",
   "execution_count": 6,
   "metadata": {},
   "outputs": [
    {
     "data": {
      "text/html": [
       "<div>\n",
       "<style scoped>\n",
       "    .dataframe tbody tr th:only-of-type {\n",
       "        vertical-align: middle;\n",
       "    }\n",
       "\n",
       "    .dataframe tbody tr th {\n",
       "        vertical-align: top;\n",
       "    }\n",
       "\n",
       "    .dataframe thead th {\n",
       "        text-align: right;\n",
       "    }\n",
       "</style>\n",
       "<table border=\"1\" class=\"dataframe\">\n",
       "  <thead>\n",
       "    <tr style=\"text-align: right;\">\n",
       "      <th></th>\n",
       "      <th>State</th>\n",
       "      <th>Urban_Index</th>\n",
       "      <th>Urban_Scale</th>\n",
       "    </tr>\n",
       "  </thead>\n",
       "  <tbody>\n",
       "    <tr>\n",
       "      <th>0</th>\n",
       "      <td>AL</td>\n",
       "      <td>9.606</td>\n",
       "      <td>Very Rural</td>\n",
       "    </tr>\n",
       "    <tr>\n",
       "      <th>1</th>\n",
       "      <td>AK</td>\n",
       "      <td>8.736</td>\n",
       "      <td>Very Rural</td>\n",
       "    </tr>\n",
       "    <tr>\n",
       "      <th>3</th>\n",
       "      <td>AZ</td>\n",
       "      <td>11.300</td>\n",
       "      <td>Very Urban</td>\n",
       "    </tr>\n",
       "    <tr>\n",
       "      <th>4</th>\n",
       "      <td>AR</td>\n",
       "      <td>9.259</td>\n",
       "      <td>Very Rural</td>\n",
       "    </tr>\n",
       "    <tr>\n",
       "      <th>5</th>\n",
       "      <td>CA</td>\n",
       "      <td>12.190</td>\n",
       "      <td>Very Urban</td>\n",
       "    </tr>\n",
       "  </tbody>\n",
       "</table>\n",
       "</div>"
      ],
      "text/plain": [
       "  State  Urban_Index Urban_Scale\n",
       "0    AL        9.606  Very Rural\n",
       "1    AK        8.736  Very Rural\n",
       "3    AZ       11.300  Very Urban\n",
       "4    AR        9.259  Very Rural\n",
       "5    CA       12.190  Very Urban"
      ]
     },
     "execution_count": 6,
     "metadata": {},
     "output_type": "execute_result"
    }
   ],
   "source": [
    "clean_urban['Urban_Scale']= pd.qcut(clean_urban['Urban_Index'], 4, \n",
    "                                    labels=[\"Very Rural\", \"Rural\", \n",
    "                                            \"Urban\", \"Very Urban\"])\n",
    "clean_urban = clean_urban.round(3)\n",
    "clean_urban.head()"
   ]
  },
  {
   "cell_type": "markdown",
   "metadata": {},
   "source": [
    "**Import Ufo Sighting Data**"
   ]
  },
  {
   "cell_type": "code",
   "execution_count": 7,
   "metadata": {},
   "outputs": [],
   "source": [
    "ufodata = \"Resources/scrubbed_ufo.csv\"\n",
    "ufodf = pd.read_csv(ufodata, low_memory=False)"
   ]
  },
  {
   "cell_type": "code",
   "execution_count": 8,
   "metadata": {},
   "outputs": [],
   "source": [
    "datetimefix = ufodf['datetime']\n",
    "datetimefix = pd.DataFrame(datetimefix.str.split(\"/\",expand=True))\n",
    "datetimefix = datetimefix[2]\n",
    "datetimefix = pd.DataFrame(datetimefix.str.split(expand=True))\n",
    "datetimefix = pd.to_numeric(datetimefix[0])\n",
    "datetimefix = pd.DataFrame(datetimefix)"
   ]
  },
  {
   "cell_type": "code",
   "execution_count": 9,
   "metadata": {},
   "outputs": [],
   "source": [
    "ufodf = ufodf.join(datetimefix, how='left')\n",
    "ufodf = ufodf.rename(columns={0: \"year\"})"
   ]
  },
  {
   "cell_type": "code",
   "execution_count": 10,
   "metadata": {},
   "outputs": [
    {
     "data": {
      "text/html": [
       "<div>\n",
       "<style scoped>\n",
       "    .dataframe tbody tr th:only-of-type {\n",
       "        vertical-align: middle;\n",
       "    }\n",
       "\n",
       "    .dataframe tbody tr th {\n",
       "        vertical-align: top;\n",
       "    }\n",
       "\n",
       "    .dataframe thead th {\n",
       "        text-align: right;\n",
       "    }\n",
       "</style>\n",
       "<table border=\"1\" class=\"dataframe\">\n",
       "  <thead>\n",
       "    <tr style=\"text-align: right;\">\n",
       "      <th></th>\n",
       "      <th>datetime</th>\n",
       "      <th>city</th>\n",
       "      <th>state</th>\n",
       "      <th>country</th>\n",
       "      <th>shape</th>\n",
       "      <th>duration_seconds</th>\n",
       "      <th>duration_hours_min</th>\n",
       "      <th>comments</th>\n",
       "      <th>date_posted</th>\n",
       "      <th>latitude</th>\n",
       "      <th>longitude</th>\n",
       "    </tr>\n",
       "  </thead>\n",
       "  <tbody>\n",
       "    <tr>\n",
       "      <th>0</th>\n",
       "      <td>10/10/2012 20:00</td>\n",
       "      <td>moundville</td>\n",
       "      <td>AL</td>\n",
       "      <td>us</td>\n",
       "      <td>changing</td>\n",
       "      <td>240</td>\n",
       "      <td>4 minutes</td>\n",
       "      <td>Orange fiery lighting objects changing locations.</td>\n",
       "      <td>10/30/2012</td>\n",
       "      <td>32.9975000</td>\n",
       "      <td>-87.630000</td>\n",
       "    </tr>\n",
       "    <tr>\n",
       "      <th>1</th>\n",
       "      <td>10/13/2011 20:38</td>\n",
       "      <td>gurley</td>\n",
       "      <td>AL</td>\n",
       "      <td>us</td>\n",
       "      <td>diamond</td>\n",
       "      <td>480</td>\n",
       "      <td>6 to 8 mins</td>\n",
       "      <td>Super bright star shaped light&amp;#44 desending s...</td>\n",
       "      <td>10/19/2011</td>\n",
       "      <td>34.7016667</td>\n",
       "      <td>-86.375833</td>\n",
       "    </tr>\n",
       "    <tr>\n",
       "      <th>2</th>\n",
       "      <td>10/13/2012 06:30</td>\n",
       "      <td>cedar bluff</td>\n",
       "      <td>AL</td>\n",
       "      <td>us</td>\n",
       "      <td>circle</td>\n",
       "      <td>240</td>\n",
       "      <td>3-4 minutes</td>\n",
       "      <td>Bright star like ufo.</td>\n",
       "      <td>10/30/2012</td>\n",
       "      <td>34.2200000</td>\n",
       "      <td>-85.607778</td>\n",
       "    </tr>\n",
       "    <tr>\n",
       "      <th>3</th>\n",
       "      <td>10/14/2011 20:35</td>\n",
       "      <td>eufaula</td>\n",
       "      <td>AL</td>\n",
       "      <td>us</td>\n",
       "      <td>light</td>\n",
       "      <td>25</td>\n",
       "      <td>25 secs</td>\n",
       "      <td>A large extremely bright silent white light mo...</td>\n",
       "      <td>10/25/2011</td>\n",
       "      <td>31.8911111</td>\n",
       "      <td>-85.145556</td>\n",
       "    </tr>\n",
       "    <tr>\n",
       "      <th>4</th>\n",
       "      <td>10/15/2011 19:00</td>\n",
       "      <td>toney</td>\n",
       "      <td>AL</td>\n",
       "      <td>us</td>\n",
       "      <td>circle</td>\n",
       "      <td>1800</td>\n",
       "      <td>less than 30 mins.</td>\n",
       "      <td>Several orb like thing 5 white 1 red</td>\n",
       "      <td>1/12/2012</td>\n",
       "      <td>34.8980556</td>\n",
       "      <td>-86.733611</td>\n",
       "    </tr>\n",
       "  </tbody>\n",
       "</table>\n",
       "</div>"
      ],
      "text/plain": [
       "           datetime         city state country     shape duration_seconds  \\\n",
       "0  10/10/2012 20:00   moundville    AL      us  changing              240   \n",
       "1  10/13/2011 20:38       gurley    AL      us   diamond              480   \n",
       "2  10/13/2012 06:30  cedar bluff    AL      us    circle              240   \n",
       "3  10/14/2011 20:35      eufaula    AL      us     light               25   \n",
       "4  10/15/2011 19:00        toney    AL      us    circle             1800   \n",
       "\n",
       "   duration_hours_min                                           comments  \\\n",
       "0           4 minutes  Orange fiery lighting objects changing locations.   \n",
       "1         6 to 8 mins  Super bright star shaped light&#44 desending s...   \n",
       "2         3-4 minutes                              Bright star like ufo.   \n",
       "3             25 secs  A large extremely bright silent white light mo...   \n",
       "4  less than 30 mins.               Several orb like thing 5 white 1 red   \n",
       "\n",
       "  date_posted    latitude  longitude   \n",
       "0  10/30/2012  32.9975000  -87.630000  \n",
       "1  10/19/2011  34.7016667  -86.375833  \n",
       "2  10/30/2012  34.2200000  -85.607778  \n",
       "3  10/25/2011  31.8911111  -85.145556  \n",
       "4   1/12/2012  34.8980556  -86.733611  "
      ]
     },
     "execution_count": 10,
     "metadata": {},
     "output_type": "execute_result"
    }
   ],
   "source": [
    "ufodf = ufodf.drop(ufodf[ufodf['year'] <= 2010].index)\n",
    "ufodf = ufodf.drop('year', axis = 1)\n",
    "ufodf = ufodf.rename(columns={'duration (seconds)':'duration_seconds',\n",
    "                              'duration (hours/min)':'duration_hours_min', \n",
    "                              'date posted':'date_posted'})\n",
    "ufodf['state'] = ufodf['state'].str.upper()\n",
    "ufodf = ufodf.reset_index()\n",
    "ufodf = ufodf.rename_axis('id').drop('index', axis = 1)\n",
    "statecheckerdf = pd.DataFrame(clean_urban[\"State\"])\n",
    "ufodf = statecheckerdf.merge(ufodf, left_on=\"State\", right_on=\"state\", how=\"left\").drop('State', axis=1)\n",
    "ufodf.head()"
   ]
  },
  {
   "cell_type": "markdown",
   "metadata": {},
   "source": [
    "**Create Population Table**"
   ]
  },
  {
   "cell_type": "code",
   "execution_count": 11,
   "metadata": {},
   "outputs": [],
   "source": [
    "states = \"Resources/nst-est2019-alldata.csv\"\n",
    "statesdf = pd.read_csv(states, low_memory=False)"
   ]
  },
  {
   "cell_type": "code",
   "execution_count": 12,
   "metadata": {},
   "outputs": [],
   "source": [
    "statespopdf1 = statesdf[[\"REGION\", \"DIVISION\", \"NAME\"]]"
   ]
  },
  {
   "cell_type": "code",
   "execution_count": 13,
   "metadata": {},
   "outputs": [],
   "source": [
    "statespopdf2 = statesdf[[\"POPESTIMATE2010\", \n",
    "                         \"POPESTIMATE2011\", \"POPESTIMATE2012\", \"POPESTIMATE2013\", \n",
    "                         \"POPESTIMATE2014\", \"POPESTIMATE2014\", \"POPESTIMATE2015\", \n",
    "                         \"POPESTIMATE2016\", \"POPESTIMATE2017\", \"POPESTIMATE2018\",\n",
    "                        \"POPESTIMATE2019\"]]\n"
   ]
  },
  {
   "cell_type": "code",
   "execution_count": 14,
   "metadata": {},
   "outputs": [
    {
     "name": "stderr",
     "output_type": "stream",
     "text": [
      "C:\\Users\\kelly\\Anaconda3\\envs\\PythonData\\lib\\site-packages\\ipykernel_launcher.py:1: SettingWithCopyWarning: \n",
      "A value is trying to be set on a copy of a slice from a DataFrame.\n",
      "Try using .loc[row_indexer,col_indexer] = value instead\n",
      "\n",
      "See the caveats in the documentation: https://pandas.pydata.org/pandas-docs/stable/user_guide/indexing.html#returning-a-view-versus-a-copy\n",
      "  \"\"\"Entry point for launching an IPython kernel.\n"
     ]
    }
   ],
   "source": [
    "statespopdf2['avgpop'] = statespopdf2.mean(axis=1).astype('int64')"
   ]
  },
  {
   "cell_type": "code",
   "execution_count": 15,
   "metadata": {},
   "outputs": [],
   "source": [
    "statespopdf = statespopdf1.join(statespopdf2)\n",
    "statespopdf = statespopdf[[\"REGION\", \"DIVISION\", \"NAME\", \"avgpop\"]]"
   ]
  },
  {
   "cell_type": "code",
   "execution_count": 16,
   "metadata": {},
   "outputs": [],
   "source": [
    "statespopdf['abbrev'] = statespopdf.NAME.replace(state_new)\n",
    "statespopdf = statespopdf.iloc[5:-1]"
   ]
  },
  {
   "cell_type": "code",
   "execution_count": 17,
   "metadata": {},
   "outputs": [
    {
     "data": {
      "text/html": [
       "<div>\n",
       "<style scoped>\n",
       "    .dataframe tbody tr th:only-of-type {\n",
       "        vertical-align: middle;\n",
       "    }\n",
       "\n",
       "    .dataframe tbody tr th {\n",
       "        vertical-align: top;\n",
       "    }\n",
       "\n",
       "    .dataframe thead th {\n",
       "        text-align: right;\n",
       "    }\n",
       "</style>\n",
       "<table border=\"1\" class=\"dataframe\">\n",
       "  <thead>\n",
       "    <tr style=\"text-align: right;\">\n",
       "      <th></th>\n",
       "      <th>State</th>\n",
       "      <th>Population</th>\n",
       "    </tr>\n",
       "  </thead>\n",
       "  <tbody>\n",
       "    <tr>\n",
       "      <th>5</th>\n",
       "      <td>AL</td>\n",
       "      <td>4844999</td>\n",
       "    </tr>\n",
       "    <tr>\n",
       "      <th>6</th>\n",
       "      <td>AK</td>\n",
       "      <td>732859</td>\n",
       "    </tr>\n",
       "    <tr>\n",
       "      <th>7</th>\n",
       "      <td>AZ</td>\n",
       "      <td>6798170</td>\n",
       "    </tr>\n",
       "    <tr>\n",
       "      <th>8</th>\n",
       "      <td>AR</td>\n",
       "      <td>2973257</td>\n",
       "    </tr>\n",
       "    <tr>\n",
       "      <th>9</th>\n",
       "      <td>CA</td>\n",
       "      <td>38616261</td>\n",
       "    </tr>\n",
       "  </tbody>\n",
       "</table>\n",
       "</div>"
      ],
      "text/plain": [
       "  State  Population\n",
       "5    AL     4844999\n",
       "6    AK      732859\n",
       "7    AZ     6798170\n",
       "8    AR     2973257\n",
       "9    CA    38616261"
      ]
     },
     "execution_count": 17,
     "metadata": {},
     "output_type": "execute_result"
    }
   ],
   "source": [
    "statespopdf = statespopdf[['abbrev', 'avgpop']].copy()\n",
    "statespopdf = statespopdf.rename(columns={'abbrev':'State','avgpop':'Population'})\n",
    "statespopdf.head()"
   ]
  },
  {
   "cell_type": "markdown",
   "metadata": {},
   "source": [
    "**Assign States to Regions**"
   ]
  },
  {
   "cell_type": "code",
   "execution_count": 18,
   "metadata": {},
   "outputs": [],
   "source": [
    "census = \"Resources/nst-est2019-alldata.csv\"\n",
    "censusdf = pd.read_csv(census, low_memory=False)\n",
    "censusdf = pd.DataFrame(censusdf)"
   ]
  },
  {
   "cell_type": "code",
   "execution_count": 19,
   "metadata": {},
   "outputs": [],
   "source": [
    "ceny = censusdf[[\"REGION\", \"DIVISION\", \"NAME\"]]\n",
    "ceny = ceny.rename(columns={'NAME':'State'})\n",
    "ceny = ceny.drop(index = [0,1,2,3,4,56])"
   ]
  },
  {
   "cell_type": "code",
   "execution_count": 20,
   "metadata": {},
   "outputs": [],
   "source": [
    "ceny[\"REGION\"] = pd.to_numeric(ceny[\"REGION\"])\n",
    "ceny[\"DIVISION\"] = pd.to_numeric(ceny[\"DIVISION\"])"
   ]
  },
  {
   "cell_type": "code",
   "execution_count": 21,
   "metadata": {},
   "outputs": [],
   "source": [
    "Regions = [\n",
    "    (ceny['REGION'] <= 1),\n",
    "    (ceny['REGION'] <= 2),\n",
    "    (ceny['REGION'] <= 3),\n",
    "    (ceny['REGION'] <= 4)\n",
    "    ]\n",
    "values = ['Northeast', 'Midwest', 'South', 'West']\n",
    "ceny['Regions'] = np.select(Regions, values)\n",
    "Divisions = [\n",
    "    (ceny['DIVISION'] <= 1),\n",
    "    (ceny['DIVISION'] <= 2),\n",
    "    (ceny['DIVISION'] <= 3),\n",
    "    (ceny['DIVISION'] <= 4),\n",
    "    (ceny['DIVISION'] <= 5),\n",
    "    (ceny['DIVISION'] <= 6),\n",
    "    (ceny['DIVISION'] <= 7),\n",
    "    (ceny['DIVISION'] <= 8),\n",
    "    (ceny['DIVISION'] <= 9),\n",
    "    ]\n",
    "names = ['New England', 'Middle Atlantic', 'East North Central', \n",
    "          'West North Central','South Atlantic', 'East South Central',\n",
    "          'West South Central', 'Mountain', 'Pacific']\n",
    "ceny['Divisions'] = np.select(Divisions, names)"
   ]
  },
  {
   "cell_type": "code",
   "execution_count": 22,
   "metadata": {},
   "outputs": [
    {
     "data": {
      "text/html": [
       "<div>\n",
       "<style scoped>\n",
       "    .dataframe tbody tr th:only-of-type {\n",
       "        vertical-align: middle;\n",
       "    }\n",
       "\n",
       "    .dataframe tbody tr th {\n",
       "        vertical-align: top;\n",
       "    }\n",
       "\n",
       "    .dataframe thead th {\n",
       "        text-align: right;\n",
       "    }\n",
       "</style>\n",
       "<table border=\"1\" class=\"dataframe\">\n",
       "  <thead>\n",
       "    <tr style=\"text-align: right;\">\n",
       "      <th></th>\n",
       "      <th>Region</th>\n",
       "      <th>Division</th>\n",
       "    </tr>\n",
       "    <tr>\n",
       "      <th>State</th>\n",
       "      <th></th>\n",
       "      <th></th>\n",
       "    </tr>\n",
       "  </thead>\n",
       "  <tbody>\n",
       "    <tr>\n",
       "      <th>AL</th>\n",
       "      <td>South</td>\n",
       "      <td>East South Central</td>\n",
       "    </tr>\n",
       "    <tr>\n",
       "      <th>AK</th>\n",
       "      <td>West</td>\n",
       "      <td>Pacific</td>\n",
       "    </tr>\n",
       "    <tr>\n",
       "      <th>AZ</th>\n",
       "      <td>West</td>\n",
       "      <td>Mountain</td>\n",
       "    </tr>\n",
       "    <tr>\n",
       "      <th>AR</th>\n",
       "      <td>South</td>\n",
       "      <td>West South Central</td>\n",
       "    </tr>\n",
       "    <tr>\n",
       "      <th>CA</th>\n",
       "      <td>West</td>\n",
       "      <td>Pacific</td>\n",
       "    </tr>\n",
       "  </tbody>\n",
       "</table>\n",
       "</div>"
      ],
      "text/plain": [
       "      Region            Division\n",
       "State                           \n",
       "AL     South  East South Central\n",
       "AK      West             Pacific\n",
       "AZ      West            Mountain\n",
       "AR     South  West South Central\n",
       "CA      West             Pacific"
      ]
     },
     "execution_count": 22,
     "metadata": {},
     "output_type": "execute_result"
    }
   ],
   "source": [
    "census_regions = ceny[[\"State\", \"Regions\", \"Divisions\"]]\n",
    "census_regions = census_regions.rename(columns={\"Regions\":'Region',\"Divisions\":\"Division\"})\n",
    "census_regions['State'] = census_regions.State.replace(state_new)\n",
    "census_regions = census_regions.set_index(['State'])\n",
    "census_regions.head()"
   ]
  },
  {
   "cell_type": "markdown",
   "metadata": {},
   "source": [
    "**Turn New Tables into CSVs**"
   ]
  },
  {
   "cell_type": "code",
   "execution_count": 23,
   "metadata": {},
   "outputs": [],
   "source": [
    "clean_urban.to_csv(\"Resources/clean_urban.csv\", index=False)\n",
    "ufodf.to_csv(\"Resources/limited_ufo.csv\", index=True)\n",
    "statespopdf.to_csv(\"Resources/state_populations.csv\", index=False)\n",
    "census_regions.to_csv(\"Resources/census_regions.csv\")"
   ]
  }
 ],
 "metadata": {
  "kernelspec": {
   "display_name": "Python 3",
   "language": "python",
   "name": "python3"
  },
  "language_info": {
   "codemirror_mode": {
    "name": "ipython",
    "version": 3
   },
   "file_extension": ".py",
   "mimetype": "text/x-python",
   "name": "python",
   "nbconvert_exporter": "python",
   "pygments_lexer": "ipython3",
   "version": "3.6.10"
  }
 },
 "nbformat": 4,
 "nbformat_minor": 2
}
