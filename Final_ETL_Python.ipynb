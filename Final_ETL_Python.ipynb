{
 "cells": [
  {
   "cell_type": "markdown",
   "metadata": {},
   "source": [
    "# Combined ETL Python Code"
   ]
  },
  {
   "cell_type": "markdown",
   "metadata": {},
   "source": [
    "**Insert Dependecies**"
   ]
  },
  {
   "cell_type": "code",
   "execution_count": 1,
   "metadata": {},
   "outputs": [],
   "source": [
    "import numpy as np\n",
    "import pandas as pd"
   ]
  },
  {
   "cell_type": "markdown",
   "metadata": {},
   "source": [
    "**Import Urbanization Index Data**"
   ]
  },
  {
   "cell_type": "code",
   "execution_count": 2,
   "metadata": {},
   "outputs": [],
   "source": [
    "urban = \"Resources/urban.csv\"\n",
    "urban_df = pd.read_csv(urban)\n",
    "urban_df = pd.DataFrame(urban_df)"
   ]
  },
  {
   "cell_type": "code",
   "execution_count": 3,
   "metadata": {},
   "outputs": [],
   "source": [
    "state_new  = {'Alabama': 'AL','Alaska': 'AK','American Samoa': 'AS','Arizona': 'AZ','Arkansas': 'AR',\n",
    "              'California': 'CA','Colorado': 'CO','Connecticut': 'CT','Delaware': 'DE','District of Columbia': 'DC',\n",
    "              'Florida': 'FL','Georgia': 'GA','Guam': 'GU','Hawaii': 'HI','Idaho': 'ID','Illinois': 'IL',\n",
    "              'Indiana': 'IN','Iowa': 'IA','Kansas': 'KS','Kentucky': 'KY','Louisiana': 'LA','Maine': 'ME',\n",
    "              'Maryland': 'MD','Massachusetts': 'MA','Michigan': 'MI','Minnesota': 'MN','Mississippi': 'MS',\n",
    "              'Missouri': 'MO','Montana': 'MT','Nebraska': 'NE','Nevada': 'NV','New Hampshire': 'NH',\n",
    "              'New Jersey': 'NJ','New Mexico': 'NM','New York': 'NY','North Carolina': 'NC','North Dakota': 'ND',\n",
    "              'Northern Mariana Islands':'MP','Ohio': 'OH','Oklahoma': 'OK','Oregon': 'OR','Pennsylvania': 'PA',\n",
    "              'Puerto Rico': 'PR','Rhode Island': 'RI','South Carolina': 'SC','South Dakota': 'SD','Tennessee': 'TN',\n",
    "              'Texas': 'TX','Utah': 'UT','Vermont': 'VT','Virgin Islands': 'VI','Virginia': 'VA',\n",
    "              'Washington': 'WA','West Virginia': 'WV','Wisconsin': 'WI','Wyoming': 'WY'\n",
    "}\n",
    "\n",
    "urban_df['abbrev'] = urban_df.state.replace(state_new)"
   ]
  },
  {
   "cell_type": "code",
   "execution_count": 4,
   "metadata": {},
   "outputs": [],
   "source": [
    "urban = urban_df[['abbrev', 'urbanindex']].copy()\n",
    "urban = urban.rename(columns={'abbrev':'State','urbanindex':'Urban_Index'})"
   ]
  },
  {
   "cell_type": "code",
   "execution_count": 5,
   "metadata": {},
   "outputs": [],
   "source": [
    "clean_urban = urban.drop(index = [2,37,50,12,42])"
   ]
  },
  {
   "cell_type": "code",
   "execution_count": 6,
   "metadata": {},
   "outputs": [
    {
     "data": {
      "text/html": [
       "<div>\n",
       "<style scoped>\n",
       "    .dataframe tbody tr th:only-of-type {\n",
       "        vertical-align: middle;\n",
       "    }\n",
       "\n",
       "    .dataframe tbody tr th {\n",
       "        vertical-align: top;\n",
       "    }\n",
       "\n",
       "    .dataframe thead th {\n",
       "        text-align: right;\n",
       "    }\n",
       "</style>\n",
       "<table border=\"1\" class=\"dataframe\">\n",
       "  <thead>\n",
       "    <tr style=\"text-align: right;\">\n",
       "      <th></th>\n",
       "      <th>State</th>\n",
       "      <th>Urban_Index</th>\n",
       "      <th>Urban_Scale</th>\n",
       "    </tr>\n",
       "  </thead>\n",
       "  <tbody>\n",
       "    <tr>\n",
       "      <th>0</th>\n",
       "      <td>AL</td>\n",
       "      <td>9.606</td>\n",
       "      <td>Very Rural</td>\n",
       "    </tr>\n",
       "    <tr>\n",
       "      <th>1</th>\n",
       "      <td>AK</td>\n",
       "      <td>8.736</td>\n",
       "      <td>Very Rural</td>\n",
       "    </tr>\n",
       "    <tr>\n",
       "      <th>3</th>\n",
       "      <td>AZ</td>\n",
       "      <td>11.300</td>\n",
       "      <td>Very Urban</td>\n",
       "    </tr>\n",
       "    <tr>\n",
       "      <th>4</th>\n",
       "      <td>AR</td>\n",
       "      <td>9.259</td>\n",
       "      <td>Very Rural</td>\n",
       "    </tr>\n",
       "    <tr>\n",
       "      <th>5</th>\n",
       "      <td>CA</td>\n",
       "      <td>12.190</td>\n",
       "      <td>Very Urban</td>\n",
       "    </tr>\n",
       "  </tbody>\n",
       "</table>\n",
       "</div>"
      ],
      "text/plain": [
       "  State  Urban_Index Urban_Scale\n",
       "0    AL        9.606  Very Rural\n",
       "1    AK        8.736  Very Rural\n",
       "3    AZ       11.300  Very Urban\n",
       "4    AR        9.259  Very Rural\n",
       "5    CA       12.190  Very Urban"
      ]
     },
     "execution_count": 6,
     "metadata": {},
     "output_type": "execute_result"
    }
   ],
   "source": [
    "clean_urban['Urban_Scale']= pd.qcut(clean_urban['Urban_Index'], 4, \n",
    "                                    labels=[\"Very Rural\", \"Rural\", \n",
    "                                            \"Urban\", \"Very Urban\"])\n",
    "clean_urban = clean_urban.round(3)\n",
    "clean_urban.head()"
   ]
  },
  {
   "cell_type": "markdown",
   "metadata": {},
   "source": [
    "**Import Ufo Sighting Data**"
   ]
  },
  {
   "cell_type": "code",
   "execution_count": 7,
   "metadata": {},
   "outputs": [],
   "source": [
    "ufodata = \"Resources/scrubbed_ufo.csv\"\n",
    "ufodf = pd.read_csv(ufodata, low_memory=False)"
   ]
  },
  {
   "cell_type": "code",
   "execution_count": 8,
   "metadata": {},
   "outputs": [],
   "source": [
    "datetimefix = ufodf['datetime']\n",
    "datetimefix = pd.DataFrame(datetimefix.str.split(\"/\",expand=True))\n",
    "datetimefix = datetimefix[2]\n",
    "datetimefix = pd.DataFrame(datetimefix.str.split(expand=True))\n",
    "datetimefix = pd.to_numeric(datetimefix[0])\n",
    "datetimefix = pd.DataFrame(datetimefix)"
   ]
  },
  {
   "cell_type": "code",
   "execution_count": 9,
   "metadata": {},
   "outputs": [],
   "source": [
    "ufodf = ufodf.join(datetimefix, how='left')\n",
    "ufodf = ufodf.rename(columns={0: \"year\"})"
   ]
  },
  {
   "cell_type": "code",
   "execution_count": 10,
   "metadata": {},
   "outputs": [
    {
     "data": {
      "text/html": [
       "<div>\n",
       "<style scoped>\n",
       "    .dataframe tbody tr th:only-of-type {\n",
       "        vertical-align: middle;\n",
       "    }\n",
       "\n",
       "    .dataframe tbody tr th {\n",
       "        vertical-align: top;\n",
       "    }\n",
       "\n",
       "    .dataframe thead th {\n",
       "        text-align: right;\n",
       "    }\n",
       "</style>\n",
       "<table border=\"1\" class=\"dataframe\">\n",
       "  <thead>\n",
       "    <tr style=\"text-align: right;\">\n",
       "      <th></th>\n",
       "      <th>datetime</th>\n",
       "      <th>city</th>\n",
       "      <th>state</th>\n",
       "      <th>country</th>\n",
       "      <th>shape</th>\n",
       "      <th>duration_seconds</th>\n",
       "      <th>duration_hours_min</th>\n",
       "      <th>comments</th>\n",
       "      <th>date_posted</th>\n",
       "      <th>latitude</th>\n",
       "      <th>longitude</th>\n",
       "    </tr>\n",
       "  </thead>\n",
       "  <tbody>\n",
       "    <tr>\n",
       "      <th>230</th>\n",
       "      <td>10/10/2011 00:00</td>\n",
       "      <td>troy</td>\n",
       "      <td>ny</td>\n",
       "      <td>us</td>\n",
       "      <td>triangle</td>\n",
       "      <td>7200</td>\n",
       "      <td>2 hours</td>\n",
       "      <td>Red&amp;#44 green &amp;amp; orange blinking triangle f...</td>\n",
       "      <td>10/10/2011</td>\n",
       "      <td>42.7283333</td>\n",
       "      <td>-73.692222</td>\n",
       "    </tr>\n",
       "    <tr>\n",
       "      <th>231</th>\n",
       "      <td>10/10/2011 01:00</td>\n",
       "      <td>farmington</td>\n",
       "      <td>nm</td>\n",
       "      <td>us</td>\n",
       "      <td>circle</td>\n",
       "      <td>300</td>\n",
       "      <td>5 minutes</td>\n",
       "      <td>Single reddish circle  in the sky that wasn&amp;#3...</td>\n",
       "      <td>8/30/2013</td>\n",
       "      <td>36.7280556</td>\n",
       "      <td>-108.218056</td>\n",
       "    </tr>\n",
       "    <tr>\n",
       "      <th>232</th>\n",
       "      <td>10/10/2011 02:00</td>\n",
       "      <td>prescott valley</td>\n",
       "      <td>az</td>\n",
       "      <td>us</td>\n",
       "      <td>other</td>\n",
       "      <td>300</td>\n",
       "      <td>hours</td>\n",
       "      <td>Craft boomerang shape.2:00am duration hours.  ...</td>\n",
       "      <td>10/10/2011</td>\n",
       "      <td>34.6100000</td>\n",
       "      <td>-112.315000</td>\n",
       "    </tr>\n",
       "    <tr>\n",
       "      <th>233</th>\n",
       "      <td>10/10/2011 10:30</td>\n",
       "      <td>ashville</td>\n",
       "      <td>ny</td>\n",
       "      <td>us</td>\n",
       "      <td>circle</td>\n",
       "      <td>60</td>\n",
       "      <td>1 minute</td>\n",
       "      <td>Amber object in night sky during full moon&amp;#44...</td>\n",
       "      <td>10/19/2011</td>\n",
       "      <td>42.0963889</td>\n",
       "      <td>-79.375833</td>\n",
       "    </tr>\n",
       "    <tr>\n",
       "      <th>234</th>\n",
       "      <td>10/10/2011 14:00</td>\n",
       "      <td>epsom (surrey) (uk/england)</td>\n",
       "      <td>NaN</td>\n",
       "      <td>gb</td>\n",
       "      <td>oval</td>\n",
       "      <td>300</td>\n",
       "      <td>5 mins</td>\n",
       "      <td>Flying beer barrel shaped metallic object</td>\n",
       "      <td>12/12/2011</td>\n",
       "      <td>51.316667</td>\n",
       "      <td>-0.266667</td>\n",
       "    </tr>\n",
       "  </tbody>\n",
       "</table>\n",
       "</div>"
      ],
      "text/plain": [
       "             datetime                         city state country     shape  \\\n",
       "230  10/10/2011 00:00                         troy    ny      us  triangle   \n",
       "231  10/10/2011 01:00                   farmington    nm      us    circle   \n",
       "232  10/10/2011 02:00              prescott valley    az      us     other   \n",
       "233  10/10/2011 10:30                     ashville    ny      us    circle   \n",
       "234  10/10/2011 14:00  epsom (surrey) (uk/england)   NaN      gb      oval   \n",
       "\n",
       "    duration_seconds duration_hours_min  \\\n",
       "230             7200            2 hours   \n",
       "231              300          5 minutes   \n",
       "232              300              hours   \n",
       "233               60           1 minute   \n",
       "234              300             5 mins   \n",
       "\n",
       "                                              comments date_posted  \\\n",
       "230  Red&#44 green &amp; orange blinking triangle f...  10/10/2011   \n",
       "231  Single reddish circle  in the sky that wasn&#3...   8/30/2013   \n",
       "232  Craft boomerang shape.2:00am duration hours.  ...  10/10/2011   \n",
       "233  Amber object in night sky during full moon&#44...  10/19/2011   \n",
       "234          Flying beer barrel shaped metallic object  12/12/2011   \n",
       "\n",
       "       latitude  longitude   \n",
       "230  42.7283333  -73.692222  \n",
       "231  36.7280556 -108.218056  \n",
       "232  34.6100000 -112.315000  \n",
       "233  42.0963889  -79.375833  \n",
       "234   51.316667   -0.266667  "
      ]
     },
     "execution_count": 10,
     "metadata": {},
     "output_type": "execute_result"
    }
   ],
   "source": [
    "ufodf = ufodf.drop(ufodf[ufodf['year'] <= 2010].index)\n",
    "ufodf = ufodf.drop('year', axis = 1)\n",
    "ufodf = ufodf.rename(columns={'duration (seconds)':'duration_seconds',\n",
    "                              'duration (hours/min)':'duration_hours_min', \n",
    "                              'date posted':'date_posted'})\n",
    "ufodf.head()"
   ]
  },
  {
   "cell_type": "markdown",
   "metadata": {},
   "source": [
    "**Create Population Table**"
   ]
  },
  {
   "cell_type": "code",
   "execution_count": 11,
   "metadata": {},
   "outputs": [],
   "source": [
    "states = \"Resources/nst-est2019-alldata.csv\"\n",
    "statesdf = pd.read_csv(states, low_memory=False)"
   ]
  },
  {
   "cell_type": "code",
   "execution_count": 12,
   "metadata": {},
   "outputs": [],
   "source": [
    "statespopdf1 = statesdf[[\"REGION\", \"DIVISION\", \"NAME\"]]"
   ]
  },
  {
   "cell_type": "code",
   "execution_count": 13,
   "metadata": {},
   "outputs": [],
   "source": [
    "statespopdf2 = statesdf[[\"POPESTIMATE2010\", \n",
    "                         \"POPESTIMATE2011\", \"POPESTIMATE2012\", \"POPESTIMATE2013\", \n",
    "                         \"POPESTIMATE2014\", \"POPESTIMATE2014\", \"POPESTIMATE2015\", \n",
    "                         \"POPESTIMATE2016\", \"POPESTIMATE2017\", \"POPESTIMATE2018\",\n",
    "                        \"POPESTIMATE2019\"]]\n"
   ]
  },
  {
   "cell_type": "code",
   "execution_count": 14,
   "metadata": {},
   "outputs": [
    {
     "name": "stderr",
     "output_type": "stream",
     "text": [
      "C:\\Users\\kelly\\Anaconda3\\envs\\PythonData\\lib\\site-packages\\ipykernel_launcher.py:1: SettingWithCopyWarning: \n",
      "A value is trying to be set on a copy of a slice from a DataFrame.\n",
      "Try using .loc[row_indexer,col_indexer] = value instead\n",
      "\n",
      "See the caveats in the documentation: https://pandas.pydata.org/pandas-docs/stable/user_guide/indexing.html#returning-a-view-versus-a-copy\n",
      "  \"\"\"Entry point for launching an IPython kernel.\n"
     ]
    }
   ],
   "source": [
    "statespopdf2['avgpop'] = statespopdf2.mean(axis=1).astype('int64')"
   ]
  },
  {
   "cell_type": "code",
   "execution_count": 15,
   "metadata": {},
   "outputs": [],
   "source": [
    "statespopdf = statespopdf1.join(statespopdf2)\n",
    "statespopdf = statespopdf[[\"REGION\", \"DIVISION\", \"NAME\", \"avgpop\"]]"
   ]
  },
  {
   "cell_type": "code",
   "execution_count": 16,
   "metadata": {},
   "outputs": [],
   "source": [
    "statespopdf['abbrev'] = statespopdf.NAME.replace(state_new)\n",
    "statespopdf = statespopdf.iloc[5:-1]"
   ]
  },
  {
   "cell_type": "code",
   "execution_count": 17,
   "metadata": {},
   "outputs": [
    {
     "data": {
      "text/html": [
       "<div>\n",
       "<style scoped>\n",
       "    .dataframe tbody tr th:only-of-type {\n",
       "        vertical-align: middle;\n",
       "    }\n",
       "\n",
       "    .dataframe tbody tr th {\n",
       "        vertical-align: top;\n",
       "    }\n",
       "\n",
       "    .dataframe thead th {\n",
       "        text-align: right;\n",
       "    }\n",
       "</style>\n",
       "<table border=\"1\" class=\"dataframe\">\n",
       "  <thead>\n",
       "    <tr style=\"text-align: right;\">\n",
       "      <th></th>\n",
       "      <th>State</th>\n",
       "      <th>Population</th>\n",
       "    </tr>\n",
       "  </thead>\n",
       "  <tbody>\n",
       "    <tr>\n",
       "      <th>5</th>\n",
       "      <td>AL</td>\n",
       "      <td>4844999</td>\n",
       "    </tr>\n",
       "    <tr>\n",
       "      <th>6</th>\n",
       "      <td>AK</td>\n",
       "      <td>732859</td>\n",
       "    </tr>\n",
       "    <tr>\n",
       "      <th>7</th>\n",
       "      <td>AZ</td>\n",
       "      <td>6798170</td>\n",
       "    </tr>\n",
       "    <tr>\n",
       "      <th>8</th>\n",
       "      <td>AR</td>\n",
       "      <td>2973257</td>\n",
       "    </tr>\n",
       "    <tr>\n",
       "      <th>9</th>\n",
       "      <td>CA</td>\n",
       "      <td>38616261</td>\n",
       "    </tr>\n",
       "  </tbody>\n",
       "</table>\n",
       "</div>"
      ],
      "text/plain": [
       "  State  Population\n",
       "5    AL     4844999\n",
       "6    AK      732859\n",
       "7    AZ     6798170\n",
       "8    AR     2973257\n",
       "9    CA    38616261"
      ]
     },
     "execution_count": 17,
     "metadata": {},
     "output_type": "execute_result"
    }
   ],
   "source": [
    "statespopdf = statespopdf[['abbrev', 'avgpop']].copy()\n",
    "statespopdf = statespopdf.rename(columns={'abbrev':'State','avgpop':'Population'})\n",
    "statespopdf.head()"
   ]
  },
  {
   "cell_type": "markdown",
   "metadata": {},
   "source": [
    "**Assign States to Regions**"
   ]
  },
  {
   "cell_type": "code",
   "execution_count": 18,
   "metadata": {},
   "outputs": [],
   "source": [
    "census = \"Resources/nst-est2019-alldata.csv\"\n",
    "censusdf = pd.read_csv(census, low_memory=False)\n",
    "censusdf = pd.DataFrame(censusdf)"
   ]
  },
  {
   "cell_type": "code",
   "execution_count": 19,
   "metadata": {},
   "outputs": [],
   "source": [
    "ceny = censusdf[[\"REGION\", \"DIVISION\", \"NAME\"]]\n",
    "ceny = ceny.rename(columns={'NAME':'State'})\n",
    "ceny = ceny.drop(index = [0,1,2,3,4,56])"
   ]
  },
  {
   "cell_type": "code",
   "execution_count": 20,
   "metadata": {},
   "outputs": [],
   "source": [
    "ceny[\"REGION\"] = pd.to_numeric(ceny[\"REGION\"])\n",
    "ceny[\"DIVISION\"] = pd.to_numeric(ceny[\"DIVISION\"])"
   ]
  },
  {
   "cell_type": "code",
   "execution_count": 21,
   "metadata": {},
   "outputs": [],
   "source": [
    "Regions = [\n",
    "    (ceny['REGION'] <= 1),\n",
    "    (ceny['REGION'] <= 2),\n",
    "    (ceny['REGION'] <= 3),\n",
    "    (ceny['REGION'] <= 4)\n",
    "    ]\n",
    "values = ['Northeast', 'Midwest', 'South', 'West']\n",
    "ceny['Regions'] = np.select(Regions, values)\n",
    "Divisions = [\n",
    "    (ceny['DIVISION'] <= 1),\n",
    "    (ceny['DIVISION'] <= 2),\n",
    "    (ceny['DIVISION'] <= 3),\n",
    "    (ceny['DIVISION'] <= 4),\n",
    "    (ceny['DIVISION'] <= 5),\n",
    "    (ceny['DIVISION'] <= 6),\n",
    "    (ceny['DIVISION'] <= 7),\n",
    "    (ceny['DIVISION'] <= 8),\n",
    "    (ceny['DIVISION'] <= 9),\n",
    "    ]\n",
    "names = ['New England', 'Middle Atlantic', 'East North Central', \n",
    "          'West North Central','South Atlantic', 'East South Central',\n",
    "          'West South Central', 'Mountain', 'Pacific']\n",
    "ceny['Divisions'] = np.select(Divisions, names)"
   ]
  },
  {
   "cell_type": "code",
   "execution_count": 22,
   "metadata": {},
   "outputs": [
    {
     "data": {
      "text/html": [
       "<div>\n",
       "<style scoped>\n",
       "    .dataframe tbody tr th:only-of-type {\n",
       "        vertical-align: middle;\n",
       "    }\n",
       "\n",
       "    .dataframe tbody tr th {\n",
       "        vertical-align: top;\n",
       "    }\n",
       "\n",
       "    .dataframe thead th {\n",
       "        text-align: right;\n",
       "    }\n",
       "</style>\n",
       "<table border=\"1\" class=\"dataframe\">\n",
       "  <thead>\n",
       "    <tr style=\"text-align: right;\">\n",
       "      <th></th>\n",
       "      <th>Region</th>\n",
       "      <th>Division</th>\n",
       "    </tr>\n",
       "    <tr>\n",
       "      <th>State</th>\n",
       "      <th></th>\n",
       "      <th></th>\n",
       "    </tr>\n",
       "  </thead>\n",
       "  <tbody>\n",
       "    <tr>\n",
       "      <th>Alabama</th>\n",
       "      <td>South</td>\n",
       "      <td>East South Central</td>\n",
       "    </tr>\n",
       "    <tr>\n",
       "      <th>Alaska</th>\n",
       "      <td>West</td>\n",
       "      <td>Pacific</td>\n",
       "    </tr>\n",
       "    <tr>\n",
       "      <th>Arizona</th>\n",
       "      <td>West</td>\n",
       "      <td>Mountain</td>\n",
       "    </tr>\n",
       "    <tr>\n",
       "      <th>Arkansas</th>\n",
       "      <td>South</td>\n",
       "      <td>West South Central</td>\n",
       "    </tr>\n",
       "    <tr>\n",
       "      <th>California</th>\n",
       "      <td>West</td>\n",
       "      <td>Pacific</td>\n",
       "    </tr>\n",
       "  </tbody>\n",
       "</table>\n",
       "</div>"
      ],
      "text/plain": [
       "           Region            Division\n",
       "State                                \n",
       "Alabama     South  East South Central\n",
       "Alaska       West             Pacific\n",
       "Arizona      West            Mountain\n",
       "Arkansas    South  West South Central\n",
       "California   West             Pacific"
      ]
     },
     "execution_count": 22,
     "metadata": {},
     "output_type": "execute_result"
    }
   ],
   "source": [
    "census_regions = ceny[[\"State\", \"Regions\", \"Divisions\"]]\n",
    "census_regions = census_regions.rename(columns={\"Regions\":'Region',\"Divisions\":\"Division\"})\n",
    "census_regions = census_regions.set_index(['State'])\n",
    "census_regions.head()"
   ]
  },
  {
   "cell_type": "markdown",
   "metadata": {},
   "source": [
    "**Turn New Tables into CSVs**"
   ]
  },
  {
   "cell_type": "code",
   "execution_count": 23,
   "metadata": {},
   "outputs": [],
   "source": [
    "clean_urban.to_csv(\"Resources/clean_urban.csv\")\n",
    "ufodf.to_csv(\"Resources/limited_ufo.csv\")\n",
    "statespopdf.to_csv(\"Resources/state_populations.csv\")\n",
    "census_regions.to_csv(\"Resources/census_regions.csv\")"
   ]
  },
  {
   "cell_type": "code",
   "execution_count": null,
   "metadata": {},
   "outputs": [],
   "source": []
  }
 ],
 "metadata": {
  "kernelspec": {
   "display_name": "Python 3",
   "language": "python",
   "name": "python3"
  },
  "language_info": {
   "codemirror_mode": {
    "name": "ipython",
    "version": 3
   },
   "file_extension": ".py",
   "mimetype": "text/x-python",
   "name": "python",
   "nbconvert_exporter": "python",
   "pygments_lexer": "ipython3",
   "version": "3.6.10"
  }
 },
 "nbformat": 4,
 "nbformat_minor": 2
}
